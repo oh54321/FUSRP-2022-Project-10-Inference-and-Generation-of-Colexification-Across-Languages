{
  "cells": [
    {
      "cell_type": "code",
      "source": [
        "# This is Oliver's second attempt at sort of baseline model to predict colexification in CLICS.\n",
        "# Here, I was trying to predict p(a and b colexify) in a \"randomly selected\" language. \n",
        "# More specifically, I tried doing this by trying to predict the \"colex.freq\" column divided by the total number of languages in the CLICS.csv file. \n",
        "# This is because if a and b colexify 300 times out of 5000 languages, 300/5000 is a good estimate for the probability they colexify in a \"random\" language\n",
        "# For the input, I converted the senses of each row to their word2vec embeddings. \n",
        "# I used neural networks, XGBoost, and random forest as models"
      ],
      "metadata": {
        "id": "dqNofTszQlLQ"
      },
      "execution_count": 2,
      "outputs": []
    },
    {
      "cell_type": "code",
      "execution_count": 3,
      "metadata": {
        "id": "3ouC6VIGW7kF",
        "colab": {
          "base_uri": "https://localhost:8080/"
        },
        "outputId": "3c090d54-da5c-4e42-c9d5-df73625dc5d5"
      },
      "outputs": [
        {
          "output_type": "stream",
          "name": "stdout",
          "text": [
            "\u001b[K     |████████████████████████████████| 719 kB 6.6 MB/s \n",
            "\u001b[K     |████████████████████████████████| 362 kB 55.4 MB/s \n",
            "\u001b[K     |████████████████████████████████| 1.2 MB 43.7 MB/s \n",
            "\u001b[K     |████████████████████████████████| 4.4 MB 42.3 MB/s \n",
            "\u001b[K     |████████████████████████████████| 140 kB 52.6 MB/s \n",
            "\u001b[K     |████████████████████████████████| 1.1 MB 40.8 MB/s \n",
            "\u001b[K     |████████████████████████████████| 212 kB 46.8 MB/s \n",
            "\u001b[K     |████████████████████████████████| 101 kB 10.2 MB/s \n",
            "\u001b[K     |████████████████████████████████| 596 kB 53.9 MB/s \n",
            "\u001b[K     |████████████████████████████████| 127 kB 51.5 MB/s \n",
            "\u001b[K     |████████████████████████████████| 94 kB 4.0 MB/s \n",
            "\u001b[K     |████████████████████████████████| 144 kB 36.3 MB/s \n",
            "\u001b[K     |████████████████████████████████| 271 kB 51.0 MB/s \n",
            "\u001b[K     |████████████████████████████████| 6.6 MB 38.3 MB/s \n",
            "\u001b[31mERROR: pip's dependency resolver does not currently take into account all the packages that are installed. This behaviour is the source of the following dependency conflicts.\n",
            "datascience 0.10.6 requires folium==0.2.1, but you have folium 0.8.3 which is incompatible.\u001b[0m\n",
            "\u001b[?25hLooking in indexes: https://pypi.org/simple, https://us-python.pkg.dev/colab-wheels/public/simple/\n",
            "Collecting torch-lr-finder\n",
            "  Downloading torch_lr_finder-0.2.1-py3-none-any.whl (11 kB)\n",
            "Requirement already satisfied: numpy in /usr/local/lib/python3.7/dist-packages (from torch-lr-finder) (1.21.6)\n",
            "Requirement already satisfied: packaging in /usr/local/lib/python3.7/dist-packages (from torch-lr-finder) (21.3)\n",
            "Requirement already satisfied: torch>=0.4.1 in /usr/local/lib/python3.7/dist-packages (from torch-lr-finder) (1.11.0+cu113)\n",
            "Requirement already satisfied: tqdm in /usr/local/lib/python3.7/dist-packages (from torch-lr-finder) (4.64.0)\n",
            "Requirement already satisfied: matplotlib in /usr/local/lib/python3.7/dist-packages (from torch-lr-finder) (3.2.2)\n",
            "Requirement already satisfied: typing-extensions in /usr/local/lib/python3.7/dist-packages (from torch>=0.4.1->torch-lr-finder) (4.1.1)\n",
            "Requirement already satisfied: kiwisolver>=1.0.1 in /usr/local/lib/python3.7/dist-packages (from matplotlib->torch-lr-finder) (1.4.3)\n",
            "Requirement already satisfied: cycler>=0.10 in /usr/local/lib/python3.7/dist-packages (from matplotlib->torch-lr-finder) (0.11.0)\n",
            "Requirement already satisfied: python-dateutil>=2.1 in /usr/local/lib/python3.7/dist-packages (from matplotlib->torch-lr-finder) (2.8.2)\n",
            "Requirement already satisfied: pyparsing!=2.0.4,!=2.1.2,!=2.1.6,>=2.0.1 in /usr/local/lib/python3.7/dist-packages (from matplotlib->torch-lr-finder) (3.0.9)\n",
            "Requirement already satisfied: six>=1.5 in /usr/local/lib/python3.7/dist-packages (from python-dateutil>=2.1->matplotlib->torch-lr-finder) (1.15.0)\n",
            "Installing collected packages: torch-lr-finder\n",
            "Successfully installed torch-lr-finder-0.2.1\n",
            "Mounted at /content/gdrive\n"
          ]
        }
      ],
      "source": [
        "from google.colab import drive\n",
        "! [ -e /content ] && pip install -Uqq fastbook\n",
        "! pip install torch-lr-finder\n",
        "import fastbook\n",
        "fastbook.setup_book()\n",
        "from fastai.tabular.all import *"
      ]
    },
    {
      "cell_type": "code",
      "execution_count": 4,
      "metadata": {
        "id": "N3TV17S_3xFE"
      },
      "outputs": [],
      "source": [
        "import torch\n",
        "import torch.nn as nn\n",
        "import torch.nn.functional as F\n",
        "import torch.optim as optim\n",
        "from torch.utils.data import TensorDataset, DataLoader\n",
        "from fastbook import *\n",
        "import gensim.downloader as gs\n",
        "import numpy as np\n",
        "import pandas as pd\n",
        "from sklearn.model_selection import train_test_split\n",
        "import random as r\n",
        "from torch_lr_finder import LRFinder"
      ]
    },
    {
      "cell_type": "code",
      "execution_count": 5,
      "metadata": {
        "id": "dMSuRajXiRYr",
        "colab": {
          "base_uri": "https://localhost:8080/"
        },
        "outputId": "040ecdb7-bc29-4425-d7e9-a3405f826db6"
      },
      "outputs": [
        {
          "output_type": "stream",
          "name": "stdout",
          "text": [
            "[==================================================] 100.0% 1662.8/1662.8MB downloaded\n"
          ]
        }
      ],
      "source": [
        "wv = gs.load('word2vec-google-news-300') # These are the word2vec embeddings we are using"
      ]
    },
    {
      "cell_type": "code",
      "execution_count": 6,
      "metadata": {
        "colab": {
          "base_uri": "https://localhost:8080/",
          "height": 206
        },
        "id": "SGpn2odEXb1g",
        "outputId": "a8472118-8ad0-4d14-c5a7-ad1d9a100328"
      },
      "outputs": [
        {
          "output_type": "execute_result",
          "data": {
            "text/plain": [
              "   colex.freq Concepticon_Gloss.xo Concepticon_Gloss.yo  vision  assoc  affec  \\\n",
              "0         340                 TREE                 WOOD       1      1      1   \n",
              "1         326                  LEG                 FOOT       1      1      1   \n",
              "2         296                 MOON                MONTH       0      1      1   \n",
              "3         291                   GO                 WALK       0      1      1   \n",
              "4         284                 HAND                  ARM       1      1      1   \n",
              "\n",
              "   tax  fully_covered  \n",
              "0    1              1  \n",
              "1    1              1  \n",
              "2    1              0  \n",
              "3    1              0  \n",
              "4    1              1  "
            ],
            "text/html": [
              "\n",
              "  <div id=\"df-c4529129-e4ec-434f-a1f9-c41e917ace42\">\n",
              "    <div class=\"colab-df-container\">\n",
              "      <div>\n",
              "<style scoped>\n",
              "    .dataframe tbody tr th:only-of-type {\n",
              "        vertical-align: middle;\n",
              "    }\n",
              "\n",
              "    .dataframe tbody tr th {\n",
              "        vertical-align: top;\n",
              "    }\n",
              "\n",
              "    .dataframe thead th {\n",
              "        text-align: right;\n",
              "    }\n",
              "</style>\n",
              "<table border=\"1\" class=\"dataframe\">\n",
              "  <thead>\n",
              "    <tr style=\"text-align: right;\">\n",
              "      <th></th>\n",
              "      <th>colex.freq</th>\n",
              "      <th>Concepticon_Gloss.xo</th>\n",
              "      <th>Concepticon_Gloss.yo</th>\n",
              "      <th>vision</th>\n",
              "      <th>assoc</th>\n",
              "      <th>affec</th>\n",
              "      <th>tax</th>\n",
              "      <th>fully_covered</th>\n",
              "    </tr>\n",
              "  </thead>\n",
              "  <tbody>\n",
              "    <tr>\n",
              "      <th>0</th>\n",
              "      <td>340</td>\n",
              "      <td>TREE</td>\n",
              "      <td>WOOD</td>\n",
              "      <td>1</td>\n",
              "      <td>1</td>\n",
              "      <td>1</td>\n",
              "      <td>1</td>\n",
              "      <td>1</td>\n",
              "    </tr>\n",
              "    <tr>\n",
              "      <th>1</th>\n",
              "      <td>326</td>\n",
              "      <td>LEG</td>\n",
              "      <td>FOOT</td>\n",
              "      <td>1</td>\n",
              "      <td>1</td>\n",
              "      <td>1</td>\n",
              "      <td>1</td>\n",
              "      <td>1</td>\n",
              "    </tr>\n",
              "    <tr>\n",
              "      <th>2</th>\n",
              "      <td>296</td>\n",
              "      <td>MOON</td>\n",
              "      <td>MONTH</td>\n",
              "      <td>0</td>\n",
              "      <td>1</td>\n",
              "      <td>1</td>\n",
              "      <td>1</td>\n",
              "      <td>0</td>\n",
              "    </tr>\n",
              "    <tr>\n",
              "      <th>3</th>\n",
              "      <td>291</td>\n",
              "      <td>GO</td>\n",
              "      <td>WALK</td>\n",
              "      <td>0</td>\n",
              "      <td>1</td>\n",
              "      <td>1</td>\n",
              "      <td>1</td>\n",
              "      <td>0</td>\n",
              "    </tr>\n",
              "    <tr>\n",
              "      <th>4</th>\n",
              "      <td>284</td>\n",
              "      <td>HAND</td>\n",
              "      <td>ARM</td>\n",
              "      <td>1</td>\n",
              "      <td>1</td>\n",
              "      <td>1</td>\n",
              "      <td>1</td>\n",
              "      <td>1</td>\n",
              "    </tr>\n",
              "  </tbody>\n",
              "</table>\n",
              "</div>\n",
              "      <button class=\"colab-df-convert\" onclick=\"convertToInteractive('df-c4529129-e4ec-434f-a1f9-c41e917ace42')\"\n",
              "              title=\"Convert this dataframe to an interactive table.\"\n",
              "              style=\"display:none;\">\n",
              "        \n",
              "  <svg xmlns=\"http://www.w3.org/2000/svg\" height=\"24px\"viewBox=\"0 0 24 24\"\n",
              "       width=\"24px\">\n",
              "    <path d=\"M0 0h24v24H0V0z\" fill=\"none\"/>\n",
              "    <path d=\"M18.56 5.44l.94 2.06.94-2.06 2.06-.94-2.06-.94-.94-2.06-.94 2.06-2.06.94zm-11 1L8.5 8.5l.94-2.06 2.06-.94-2.06-.94L8.5 2.5l-.94 2.06-2.06.94zm10 10l.94 2.06.94-2.06 2.06-.94-2.06-.94-.94-2.06-.94 2.06-2.06.94z\"/><path d=\"M17.41 7.96l-1.37-1.37c-.4-.4-.92-.59-1.43-.59-.52 0-1.04.2-1.43.59L10.3 9.45l-7.72 7.72c-.78.78-.78 2.05 0 2.83L4 21.41c.39.39.9.59 1.41.59.51 0 1.02-.2 1.41-.59l7.78-7.78 2.81-2.81c.8-.78.8-2.07 0-2.86zM5.41 20L4 18.59l7.72-7.72 1.47 1.35L5.41 20z\"/>\n",
              "  </svg>\n",
              "      </button>\n",
              "      \n",
              "  <style>\n",
              "    .colab-df-container {\n",
              "      display:flex;\n",
              "      flex-wrap:wrap;\n",
              "      gap: 12px;\n",
              "    }\n",
              "\n",
              "    .colab-df-convert {\n",
              "      background-color: #E8F0FE;\n",
              "      border: none;\n",
              "      border-radius: 50%;\n",
              "      cursor: pointer;\n",
              "      display: none;\n",
              "      fill: #1967D2;\n",
              "      height: 32px;\n",
              "      padding: 0 0 0 0;\n",
              "      width: 32px;\n",
              "    }\n",
              "\n",
              "    .colab-df-convert:hover {\n",
              "      background-color: #E2EBFA;\n",
              "      box-shadow: 0px 1px 2px rgba(60, 64, 67, 0.3), 0px 1px 3px 1px rgba(60, 64, 67, 0.15);\n",
              "      fill: #174EA6;\n",
              "    }\n",
              "\n",
              "    [theme=dark] .colab-df-convert {\n",
              "      background-color: #3B4455;\n",
              "      fill: #D2E3FC;\n",
              "    }\n",
              "\n",
              "    [theme=dark] .colab-df-convert:hover {\n",
              "      background-color: #434B5C;\n",
              "      box-shadow: 0px 1px 3px 1px rgba(0, 0, 0, 0.15);\n",
              "      filter: drop-shadow(0px 1px 2px rgba(0, 0, 0, 0.3));\n",
              "      fill: #FFFFFF;\n",
              "    }\n",
              "  </style>\n",
              "\n",
              "      <script>\n",
              "        const buttonEl =\n",
              "          document.querySelector('#df-c4529129-e4ec-434f-a1f9-c41e917ace42 button.colab-df-convert');\n",
              "        buttonEl.style.display =\n",
              "          google.colab.kernel.accessAllowed ? 'block' : 'none';\n",
              "\n",
              "        async function convertToInteractive(key) {\n",
              "          const element = document.querySelector('#df-c4529129-e4ec-434f-a1f9-c41e917ace42');\n",
              "          const dataTable =\n",
              "            await google.colab.kernel.invokeFunction('convertToInteractive',\n",
              "                                                     [key], {});\n",
              "          if (!dataTable) return;\n",
              "\n",
              "          const docLinkHtml = 'Like what you see? Visit the ' +\n",
              "            '<a target=\"_blank\" href=https://colab.research.google.com/notebooks/data_table.ipynb>data table notebook</a>'\n",
              "            + ' to learn more about interactive tables.';\n",
              "          element.innerHTML = '';\n",
              "          dataTable['output_type'] = 'display_data';\n",
              "          await google.colab.output.renderOutput(dataTable, element);\n",
              "          const docLink = document.createElement('div');\n",
              "          docLink.innerHTML = docLinkHtml;\n",
              "          element.appendChild(docLink);\n",
              "        }\n",
              "      </script>\n",
              "    </div>\n",
              "  </div>\n",
              "  "
            ]
          },
          "metadata": {},
          "execution_count": 6
        }
      ],
      "source": [
        "NUM_LANGUAGE = 3156 # This is the number of languages used in the CLICS database\n",
        "df = pd.read_csv(\"gdrive/MyDrive/clics-colexification-data.csv\") # Change path as needed\n",
        "df.head()"
      ]
    },
    {
      "cell_type": "code",
      "execution_count": 7,
      "metadata": {
        "id": "q2NS5qHFYFwQ"
      },
      "outputs": [],
      "source": [
        "dumb_british_spellings = {\"armour\":\"armor\", \"grey\":\"gray\", \"mould\":\"mold\", \"neighbour\":\"neighbor\", \"axe\":\"ax\", \"moustache\":\"mustache\", \"plough\":\"plow\", \"mandarine\":\"mandarin\"}\n",
        "obscure_words = {\"shoulderblade\":\"shoulder blade\", \"spearthrower\":\"spear thrower\", \"ridgepole\":\"ridge pole\", \"pimpleface\":\"pimple face\", \"tumpline\":\"backpack\", \"cushma\":\"clothing\", \"curassow\":\"tropical bird\", \"banisterium\":\"plant\", \"paca\":\"rodent\", \"netbag\":\"net bag\", \"muntjacs\":\"barking deer\"}\n",
        "\n",
        "# This converts a sense to its word2vec embeddings. More specifically, for each sense I remove punctuation and then add the vectors of each individual word. \n",
        "# I also replace some obscure words and british spellings not recognized by word2vec to similar phrases that word2vec can recognize\n",
        "def stringToVec(s):  \n",
        "  s = s.lower()\n",
        "  for i in \"(),\\t\\n\":\n",
        "    s = s.replace(i, \"\")\n",
        "  for i in \"-\":\n",
        "    s = s.replace(i, \" \")\n",
        "  for i in dumb_british_spellings:\n",
        "    s = s.replace(i, dumb_british_spellings[i])\n",
        "  for i in obscure_words:\n",
        "    s = s.replace(i, obscure_words[i])\n",
        "  arr = s.split(\" \")\n",
        "  vec_defined = False\n",
        "  for i in arr:\n",
        "    try:      # try except gives an error if we can't convert the \n",
        "      if vec_defined:\n",
        "        vec += np.array(wv[i])\n",
        "      else:\n",
        "        vec = np.array(wv[i])\n",
        "        vec_defined = True\n",
        "    except:\n",
        "      continue\n",
        "  if not vec_defined:\n",
        "    raise Exception(\"Word cannot be converted to vector\")\n",
        "  return vec #This will return the string \"error\" if there is not \n",
        "def toTensor(arr):\n",
        "  return torch.tensor(arr, dtype = torch.float32) #Function to easily convert arrays to tensors"
      ]
    },
    {
      "cell_type": "code",
      "execution_count": 8,
      "metadata": {
        "id": "PYCSsx7J8l6m"
      },
      "outputs": [],
      "source": [
        "embed_length = len(wv[\"test\"]) # Length of embeddings in word2vec\n",
        "vec_dic = {} # This will be a dictionary that easily allows us to access the embedding for all of our senses. Note this is not as simple as just calling wv[s] as some senses are phrases\n",
        "error_senses = set()  # This represents the set of senses for which there was a problem converting them to embeddings. The only such sense should be \"AND\" as \"AND\" doesn't appear in word2vec\n",
        "for i in range(len(df)): # Here we loop through each row of our dataframe, and if we can convert a sense s to an embedding then we set vec_dic[s] = embedding\n",
        "  row = df.iloc[i]\n",
        "  x = row[\"Concepticon_Gloss.xo\"]\n",
        "  y = row[\"Concepticon_Gloss.yo\"]\n",
        "  try:   \n",
        "    if x not in vec_dic:\n",
        "      xvec = stringToVec(x)\n",
        "      vec_dic[x] = xvec\n",
        "  except:\n",
        "    error_senses.add(x)\n",
        "\n",
        "  try:  \n",
        "    if y not in vec_dic:\n",
        "      yvec = stringToVec(y)\n",
        "      vec_dic[y] = yvec\n",
        "  except: \n",
        "    error_senses.add(y)\n",
        "\n",
        "error_senses = list(error_senses)\n",
        "senses = list(vec_dic.keys())\n",
        "\n",
        "sense_indices = {senses[i]:i for i in range(len(senses))} # sense_indices is a dictionary where its keys are senses and its values are the indices for which the senses appear in our list of senses"
      ]
    },
    {
      "cell_type": "code",
      "source": [
        "# Here we set up the dependent variables - probability distributions p(?|s) for each sense s, where p(a|b) is (roughly) proportional to how frequently they are colexified in our data set.  \n",
        "\n",
        "# I added a small epsilon term of 0.00001, so the probabilities p(b|a) for are not actually proportional to the colexification frequency\n",
        "# of a and b, but are proportional to colex.freq + epsilon. The reason for this is if a and b don't appear as colexified in our \n",
        "# data set, there is probably a very small but not actually zero probability they colexify\n",
        "# Thus, this epsilon term \"smooths\" our probability distributions\n",
        "\n",
        "epsilon = 0.00001\n",
        "senseToProbVec = {} # This is a dictionary with keys of senses a and values of lists representing the probability distributions p(?|a). More specifically, if sense_indices[s] = i, then the ith element of senseToProbVec[a] is p(s|a)\n",
        "for s in senses:\n",
        "  senseToProbVec[s] = []\n",
        "  for s2 in senses:\n",
        "    senseToProbVec[s].append(epsilon)\n",
        "for i in range(len(df)): # Here we initialize the vectors senseToProvVec[a] so that their ith element is colex.freq of a and the ith sense + epsilon. \n",
        "  row = df.iloc[i]\n",
        "  x = row[\"Concepticon_Gloss.xo\"]\n",
        "  y = row[\"Concepticon_Gloss.yo\"]\n",
        "  amt = int(row[\"colex.freq\"])\n",
        "  if x in vec_dic and y in vec_dic:\n",
        "    senseToProbVec[x][sense_indices[y]] += amt\n",
        "    senseToProbVec[y][sense_indices[x]] += amt \n",
        "for i in senses:\n",
        "  senseToProbVec[i] = np.array(senseToProbVec[i])\n",
        "  senseToProbVec[i] = toTensor(senseToProbVec[i]/sum(senseToProbVec[i])) # Here we normalize the vectors to have sums 1"
      ],
      "metadata": {
        "id": "AP0kF747QHCC"
      },
      "execution_count": 9,
      "outputs": []
    },
    {
      "cell_type": "code",
      "source": [
        "# This is our neural network. \n",
        "# This model recieves an input of a vector representing a word or phrase s in word2vec.\n",
        "# It outputs a vector predicting the probability distributions p(?|s) \n",
        "# We add a dropout layer to prevent overfitting. We output the logs of the probabilities instead of the probabilities since these are used in our KL Divergence loss function.\n",
        "\n",
        "colex_model_2 = nn.Sequential(\n",
        "    nn.Linear(embed_length, 500),\n",
        "    nn.Sigmoid(),\n",
        "    nn.Linear(500, 500),\n",
        "    nn.Sigmoid(),\n",
        "    nn.Linear(500, len(senses)), \n",
        "    nn.Dropout(p=0.5), \n",
        "    nn.LogSoftmax()\n",
        ")"
      ],
      "metadata": {
        "id": "xyezaw-t81Sd"
      },
      "execution_count": 11,
      "outputs": []
    },
    {
      "cell_type": "code",
      "execution_count": 12,
      "metadata": {
        "id": "jIZIzUyt-yBH"
      },
      "outputs": [],
      "source": [
        "# Here we set up batches of training and test data\n",
        "\n",
        "input_output_pairs = list(zip([toTensor(vec_dic[s]) for s in senses],  [senseToProbVec[s] for s in senses]))\n",
        "train, test = train_test_split(input_output_pairs, test_size = 0.2, random_state = 0)\n",
        "\n",
        "X_train = torch.stack([i[0] for i in train])\n",
        "y_train = torch.stack([i[1] for i in train])\n",
        "X_test = torch.stack([i[0] for i in test])\n",
        "y_test = torch.stack([i[1] for i in test])\n",
        "\n",
        "trainDL = DataLoader(TensorDataset(X_train,y_train), batch_size = 128)\n",
        "testDL = DataLoader(TensorDataset(X_test,y_test), batch_size = 128)\n",
        "dls = DataLoaders(trainDL, testDL)\n",
        "\n",
        "\n",
        "# Learner is a class in FastAI that does all our model training steps for us\n",
        "# To compare the difference between the probability distributions p(?|a) given by our csv file and the one our model outputs, we use Kullback Leibler divergence\n",
        "# This measures the \"distance\" between two probability distributions\n",
        "\n",
        "learner = Learner(dls, colex_model_2, loss_func = nn.KLDivLoss(reduction = \"batchmean\"))"
      ]
    },
    {
      "cell_type": "code",
      "source": [
        "# This is a function in fastai that gives you the best learning rate for a model\n",
        "\n",
        "learner.lr_find()"
      ],
      "metadata": {
        "colab": {
          "base_uri": "https://localhost:8080/",
          "height": 361
        },
        "id": "sJ-L10jr3GZm",
        "outputId": "b2102f02-107b-4c91-8ad0-38f2ce37904d"
      },
      "execution_count": 15,
      "outputs": [
        {
          "output_type": "display_data",
          "data": {
            "text/plain": [
              "<IPython.core.display.HTML object>"
            ],
            "text/html": [
              "\n",
              "<style>\n",
              "    /* Turns off some styling */\n",
              "    progress {\n",
              "        /* gets rid of default border in Firefox and Opera. */\n",
              "        border: none;\n",
              "        /* Needs to be in here for Safari polyfill so background images work as expected. */\n",
              "        background-size: auto;\n",
              "    }\n",
              "    .progress-bar-interrupted, .progress-bar-interrupted::-webkit-progress-bar {\n",
              "        background: #F44336;\n",
              "    }\n",
              "</style>\n"
            ]
          },
          "metadata": {}
        },
        {
          "output_type": "display_data",
          "data": {
            "text/plain": [
              "<IPython.core.display.HTML object>"
            ],
            "text/html": [
              ""
            ]
          },
          "metadata": {}
        },
        {
          "output_type": "stream",
          "name": "stderr",
          "text": [
            "/usr/local/lib/python3.7/dist-packages/torch/nn/modules/container.py:141: UserWarning: Implicit dimension choice for log_softmax has been deprecated. Change the call to include dim=X as an argument.\n",
            "  input = module(input)\n"
          ]
        },
        {
          "output_type": "execute_result",
          "data": {
            "text/plain": [
              "SuggestedLRs(valley=0.0010000000474974513)"
            ]
          },
          "metadata": {},
          "execution_count": 15
        },
        {
          "output_type": "display_data",
          "data": {
            "text/plain": [
              "<Figure size 432x288 with 1 Axes>"
            ],
            "image/png": "[encoded data removed]"
          },
          "metadata": {
            "needs_background": "light"
          }
        }
      ]
    },
    {
      "cell_type": "code",
      "source": [
        "# Trains model for 100 epochs\n",
        "\n",
        "learner.fit_one_cycle(10, 0.001)"
      ],
      "metadata": {
        "colab": {
          "base_uri": "https://localhost:8080/",
          "height": 418
        },
        "id": "ai2jZyDM2pjr",
        "outputId": "3f71bf26-8847-4181-cdea-4f985c9ced8a"
      },
      "execution_count": 19,
      "outputs": [
        {
          "output_type": "display_data",
          "data": {
            "text/plain": [
              "<IPython.core.display.HTML object>"
            ],
            "text/html": [
              "\n",
              "<style>\n",
              "    /* Turns off some styling */\n",
              "    progress {\n",
              "        /* gets rid of default border in Firefox and Opera. */\n",
              "        border: none;\n",
              "        /* Needs to be in here for Safari polyfill so background images work as expected. */\n",
              "        background-size: auto;\n",
              "    }\n",
              "    .progress-bar-interrupted, .progress-bar-interrupted::-webkit-progress-bar {\n",
              "        background: #F44336;\n",
              "    }\n",
              "</style>\n"
            ]
          },
          "metadata": {}
        },
        {
          "output_type": "display_data",
          "data": {
            "text/plain": [
              "<IPython.core.display.HTML object>"
            ],
            "text/html": [
              "<table border=\"1\" class=\"dataframe\">\n",
              "  <thead>\n",
              "    <tr style=\"text-align: left;\">\n",
              "      <th>epoch</th>\n",
              "      <th>train_loss</th>\n",
              "      <th>valid_loss</th>\n",
              "      <th>time</th>\n",
              "    </tr>\n",
              "  </thead>\n",
              "  <tbody>\n",
              "    <tr>\n",
              "      <td>0</td>\n",
              "      <td>3.821033</td>\n",
              "      <td>4.326914</td>\n",
              "      <td>00:01</td>\n",
              "    </tr>\n",
              "    <tr>\n",
              "      <td>1</td>\n",
              "      <td>3.831506</td>\n",
              "      <td>4.328981</td>\n",
              "      <td>00:01</td>\n",
              "    </tr>\n",
              "    <tr>\n",
              "      <td>2</td>\n",
              "      <td>3.864056</td>\n",
              "      <td>4.333940</td>\n",
              "      <td>00:01</td>\n",
              "    </tr>\n",
              "    <tr>\n",
              "      <td>3</td>\n",
              "      <td>3.854004</td>\n",
              "      <td>4.328362</td>\n",
              "      <td>00:01</td>\n",
              "    </tr>\n",
              "    <tr>\n",
              "      <td>4</td>\n",
              "      <td>3.847218</td>\n",
              "      <td>4.323696</td>\n",
              "      <td>00:01</td>\n",
              "    </tr>\n",
              "    <tr>\n",
              "      <td>5</td>\n",
              "      <td>3.823710</td>\n",
              "      <td>4.315085</td>\n",
              "      <td>00:01</td>\n",
              "    </tr>\n",
              "    <tr>\n",
              "      <td>6</td>\n",
              "      <td>3.808073</td>\n",
              "      <td>4.307692</td>\n",
              "      <td>00:01</td>\n",
              "    </tr>\n",
              "    <tr>\n",
              "      <td>7</td>\n",
              "      <td>3.797514</td>\n",
              "      <td>4.303915</td>\n",
              "      <td>00:01</td>\n",
              "    </tr>\n",
              "    <tr>\n",
              "      <td>8</td>\n",
              "      <td>3.783219</td>\n",
              "      <td>4.302636</td>\n",
              "      <td>00:01</td>\n",
              "    </tr>\n",
              "    <tr>\n",
              "      <td>9</td>\n",
              "      <td>3.764419</td>\n",
              "      <td>4.302392</td>\n",
              "      <td>00:01</td>\n",
              "    </tr>\n",
              "  </tbody>\n",
              "</table>"
            ]
          },
          "metadata": {}
        },
        {
          "output_type": "stream",
          "name": "stderr",
          "text": [
            "/usr/local/lib/python3.7/dist-packages/torch/nn/modules/container.py:141: UserWarning: Implicit dimension choice for log_softmax has been deprecated. Change the call to include dim=X as an argument.\n",
            "  input = module(input)\n"
          ]
        }
      ]
    },
    {
      "cell_type": "code",
      "source": [
        "# For a given string a (does not have to be a sense), this returns a sorted array of pairs (p(s|a), s) given by inputting a to our model. \n",
        "# Thus, the first element of the array will be the sense that our model thinks a is most likely to colexify with\n",
        "\n",
        "def getHighestProb(word, model):   \n",
        "  dist = model(toTensor(wv[word.lower()]))\n",
        "  probs_senses = [(math.exp(float(dist[i].data)), senses[i]) for i in range(len(senses))]\n",
        "  probs_senses.sort(reverse = True)\n",
        "  return [i[1] for i in probs_senses]\n",
        "\n",
        "\n",
        "print(\"Highest probability senses to colexify with fantasy: \", getHighestProb(\"fantasy\", colex_model_2)[:5])\n",
        "print(\"Highest probability senses to colexify with maze: \", getHighestProb(\"maze\", colex_model_2)[:5])\n",
        "print(\"Highest probability senses to colexify with orthogonal: \", getHighestProb(\"orthogonal\", colex_model_2)[:5])\n",
        "print(\"Highest probability senses to colexify with judicial: \", getHighestProb(\"judicial\", colex_model_2)[:5])\n",
        "print(\"Highest probability senses to colexify with milky: \", getHighestProb(\"milky\",colex_model_2)[:5])"
      ],
      "metadata": {
        "colab": {
          "base_uri": "https://localhost:8080/"
        },
        "id": "ONkxmchr4uHF",
        "outputId": "91584c47-8021-436f-f3b7-665903f73511"
      },
      "execution_count": 22,
      "outputs": [
        {
          "output_type": "stream",
          "name": "stdout",
          "text": [
            "Highest probability senses to colexify with fantasy:  ['MIND', 'THOUGHT', 'MESSAGE', 'SPIRIT', 'SHADE']\n",
            "Highest probability senses to colexify with maze:  ['STONE', 'STONE OR ROCK', 'MIRROR', 'PINE', 'NEST']\n",
            "Highest probability senses to colexify with orthogonal:  ['LIGHTNING', 'DRUNK', 'TREE (CLASSIFIER)', 'ONE TIME', 'HEIGHT']\n",
            "Highest probability senses to colexify with judicial:  ['JUDGMENT', 'ADJUDICATE', 'CONDEMN', 'GUARD', 'PROMISE']\n",
            "Highest probability senses to colexify with milky:  ['LIGHTNING', 'YELLOW', 'FINGER', 'BRACKISH', 'THICK']\n"
          ]
        },
        {
          "output_type": "stream",
          "name": "stderr",
          "text": [
            "/usr/local/lib/python3.7/dist-packages/torch/nn/modules/container.py:141: UserWarning: Implicit dimension choice for log_softmax has been deprecated. Change the call to include dim=X as an argument.\n",
            "  input = module(input)\n"
          ]
        }
      ]
    }
  ],
  "metadata": {
    "colab": {
      "collapsed_sections": [],
      "name": "CLICS Model 2",
      "provenance": []
    },
    "kernelspec": {
      "display_name": "Python 3",
      "name": "python3"
    },
    "language_info": {
      "name": "python"
    }
  },
  "nbformat": 4,
  "nbformat_minor": 0
}